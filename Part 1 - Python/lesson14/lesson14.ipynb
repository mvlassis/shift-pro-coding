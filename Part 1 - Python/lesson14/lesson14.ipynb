{
 "cells": [
  {
   "cell_type": "markdown",
   "id": "b5b0ffc7-0d46-473b-bb5f-56ba078e5963",
   "metadata": {},
   "source": [
    "## Επαναληπτικές"
   ]
  },
  {
   "cell_type": "markdown",
   "id": "bdc8f4ed-e9eb-4b53-b180-85c4f14d05f7",
   "metadata": {},
   "source": [
    "## Άσκηση 14.1: For loops\n",
    "\n",
    "Θέλουμε να εκτυπώσουμε:\n",
    "1. Τους αριθμούς από το 0 μέχρι και το 20\n",
    "2. Τους αριθμούς από το 5 μέχρι και το 50\n",
    "3. Την προπαίδεια του 5 μέχρι και το 50\n",
    "4. Την προπαίδεια του 5 από το 50 **ανάποδα**"
   ]
  },
  {
   "cell_type": "markdown",
   "id": "63eac89f-2220-4939-99cf-f8b0959afef4",
   "metadata": {},
   "source": [
    "## Άσκηση 14.2: Sum\n",
    "\n",
    "Υπολογίστε το άθροισμα όλων των αριθμών από το 1 έως και το 100."
   ]
  },
  {
   "cell_type": "code",
   "execution_count": null,
   "id": "56bff7ff-fdbc-454a-a2ef-02a757e9fa8c",
   "metadata": {},
   "outputs": [],
   "source": [
    "lisa = []\n",
    "print(sum(lisa))\n",
    "lisa.append(i)"
   ]
  },
  {
   "cell_type": "code",
   "execution_count": null,
   "id": "5e5d90f4-d6b6-438b-91f3-8f8b1d47bf48",
   "metadata": {},
   "outputs": [],
   "source": []
  },
  {
   "cell_type": "markdown",
   "id": "418972b7-f6e5-4bbb-86dd-18ed6c73a67c",
   "metadata": {},
   "source": [
    "## Άσκηση 14.4: Switcheroo\n",
    "\n",
    "Γράψτε μια συνάρτηση που λέγεται **switcheroo()**, που θα δέχεται ένα όρισμα που θα λέγεται **string**, και θα επιστρέφει (return) το string αντιστραμμένο."
   ]
  },
  {
   "cell_type": "markdown",
   "id": "b27aa958-7956-4084-88db-986abd6a2c19",
   "metadata": {},
   "source": [
    "## Άσκηση 14.5: Δανάλυσις\n",
    "Γράψτε μια συνάρτηση που θα λέγεται **danalysis()**, που θα δέχεται ένα όρισμα που θα λέγεται **string**, και θα:\n",
    "- Εκτυπώνει τον πρώτο χαρακτήρα\n",
    "- Εκτυπώνει τον τελευταίο χαρακτήρα\n",
    "- Εκτυπώνει το μήκος του\n",
    "- Εκτυπώνει όλους τους χαρακτήρες με κεφαλαία"
   ]
  },
  {
   "cell_type": "code",
   "execution_count": null,
   "id": "f204abcf-17e8-48c3-9297-6214c47253e1",
   "metadata": {},
   "outputs": [],
   "source": [
    "def danalysis(string):\n",
    "    print(string[0])\n",
    "    print(string[-1])\n",
    "    print(len(string))\n",
    "    print(string.lower())"
   ]
  },
  {
   "cell_type": "code",
   "execution_count": null,
   "id": "c911147e-dd97-4256-af57-6866fd1109ab",
   "metadata": {},
   "outputs": [],
   "source": [
    "danalysis(\"KALISPERA stin omada, fetos einai 2025\")"
   ]
  },
  {
   "cell_type": "code",
   "execution_count": null,
   "id": "b1ec5466-c113-4b51-968e-5456367cfe98",
   "metadata": {},
   "outputs": [],
   "source": []
  }
 ],
 "metadata": {
  "kernelspec": {
   "display_name": "Python 3 (ipykernel)",
   "language": "python",
   "name": "python3"
  },
  "language_info": {
   "codemirror_mode": {
    "name": "ipython",
    "version": 3
   },
   "file_extension": ".py",
   "mimetype": "text/x-python",
   "name": "python",
   "nbconvert_exporter": "python",
   "pygments_lexer": "ipython3",
   "version": "3.13.1"
  }
 },
 "nbformat": 4,
 "nbformat_minor": 5
}
