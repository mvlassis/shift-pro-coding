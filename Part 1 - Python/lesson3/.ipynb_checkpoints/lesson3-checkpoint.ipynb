{
 "cells": [
  {
   "cell_type": "markdown",
   "id": "3a87af8b-80fd-423c-b228-313a0937ce10",
   "metadata": {},
   "source": [
    "# Εισαγωγή στα Jupyter Notebooks\n",
    "Καλησπέρα, είμαι ένα Jupyter Notebook! Είμαι ένας βολικός τρόπος να μαθαίνει κάποιος Python."
   ]
  },
  {
   "cell_type": "markdown",
   "id": "3b7164be-e8a1-4f18-9bf4-2f7c532ee587",
   "metadata": {},
   "source": [
    "Ένα Jupyter Notebook αποτελείται από διαφορετικά **κελιά** (cells). Βλέπετε ότι κάθε κελί χωρίζεται με το από πάνω και το από κάτω με κενό"
   ]
  },
  {
   "cell_type": "markdown",
   "id": "5299a774-3370-48be-98e8-39e006c17531",
   "metadata": {},
   "source": [
    "Το καλό με τα Jupyter Notebooks είναι ότι μπορώ να έχω κελιά με **κείμενο**, όπως αυτό που διαβάζετε, καθώς και τα δύο παραπάνω. Επίσης, μπορώ να έχω ΚΑΙ κώδικα, για παράδειγμα:"
   ]
  },
  {
   "cell_type": "code",
   "execution_count": 2,
   "id": "7d58ee33-7f01-453c-9020-6cf53fee6156",
   "metadata": {},
   "outputs": [
    {
     "name": "stdout",
     "output_type": "stream",
     "text": [
      "Hello, Worllllllld!\n"
     ]
    }
   ],
   "source": [
    "print(\"Hello, Worllllllld!\")"
   ]
  },
  {
   "cell_type": "markdown",
   "id": "cee17762-268e-4345-807e-a95b5f12c9c1",
   "metadata": {},
   "source": [
    "Το πάνω κελί τρέχει τον κώδικα Python που γράφουμε. Ακριβώς από κάτω, βλέπουμε τυχόν πράγματα που ο κώδικας τυπώνει στην οθόνη μας. Για να τρέξουμε ένα κελί, το διαλέγουμε και πατάμε **Shift+Enter**. Για παράδειγμα, δοκιμάστε στο από κάτω κελί να εκτυπώσετε οτιδήποτε με τη συνάρτηση **print()**."
   ]
  },
  {
   "cell_type": "code",
   "execution_count": null,
   "id": "5fb4347c-0667-4b84-ab92-073c66069b6f",
   "metadata": {},
   "outputs": [],
   "source": []
  },
  {
   "cell_type": "markdown",
   "id": "b2bbf4e4-2ef4-422a-8338-8d218123e06d",
   "metadata": {},
   "source": [
    "- Μπορούμε να τρέξουμε ένα κελί και διαλέγοντας το και πατώντας **Run -> Run Selected Cell** από το μενού στο πάνω μέρος.\n",
    "- Μπορούμε να προσθέσουμε ένα κελί κάτω από το τωρινό πατώντας στο **+** στο πάνω μέρος."
   ]
  },
  {
   "cell_type": "markdown",
   "id": "72459324-1a8d-47b5-848f-61859babad5e",
   "metadata": {},
   "source": [
    "## Σύντομη Επανάληψη\n",
    "\n",
    "### Μεταβλητές\n",
    "Αποθηκεύουμε ένα αντικείμενο που θεωρούμε χρήσιμο, και το βαφτίζουμε δίνοντάς του ένα όνομα, έτσι μπορούμε να το χρησιμοποιούμε πολλές φορές."
   ]
  },
  {
   "cell_type": "code",
   "execution_count": null,
   "id": "49c15c29-9a24-4b4f-a057-bcc20409fef5",
   "metadata": {},
   "outputs": [],
   "source": [
    "number = 42\n",
    "print(number)"
   ]
  },
  {
   "cell_type": "markdown",
   "id": "b3a4a06a-1658-48a7-8b9a-050fab7eb436",
   "metadata": {},
   "source": [
    "- Κάθε αντικείμενο έχει έναν **τύπο** (type). Στην περίπτωση πάνω, το number είναι **integer** (ακέραιος). Επειδή οι προγραμματιστές μερικές φορές βαριόμαστε, το λέμε συχνά και **int**.\n",
    "- Αν δεν ξέρουμε τον τύπο ενός αντικείμενου, χρησιμοποιούμε τη συνάρτηση **type()**. Μέσα στην παρένθεση βάζω το αντικείμενο που με ενδιαφέρει, εδώ το **number**."
   ]
  },
  {
   "cell_type": "code",
   "execution_count": null,
   "id": "610d2856-ec6c-43d0-b101-b7383886f189",
   "metadata": {},
   "outputs": [],
   "source": [
    "number = 42\n",
    "print(type(number))"
   ]
  },
  {
   "cell_type": "markdown",
   "id": "ced9916e-2c1e-467e-90ca-777efd956b64",
   "metadata": {},
   "source": [
    "### Τελεστές\n",
    "Σε όλα τα δεδομένα που έχουμε μπορούμε να κάνουμε πράξεις. Κάθε πράξη συμβολίζεται από έναν **τελεστή** (operator)"
   ]
  },
  {
   "cell_type": "code",
   "execution_count": null,
   "id": "957cc981-7524-41a4-a905-12df2da85aba",
   "metadata": {},
   "outputs": [],
   "source": [
    "num1 = 42\n",
    "num2 = 17\n",
    "sum = num1 + num2\n",
    "print(sum)\n",
    "\n",
    "dif = num1 - num2\n",
    "print(dif)\n",
    "dif2 = num2 - num1\n",
    "dif\n",
    "\n",
    "mul = num1 * num2\n",
    "print(mul)\n",
    "\n",
    "pow = 2**8\n",
    "print(pow)\n",
    "\n",
    "div = num1 / num2\n",
    "print(div)\n",
    "\n",
    "div2 = num1 // num2\n",
    "print(div2)\n",
    "\n",
    "mod = num1 % num2\n",
    "print(mod)"
   ]
  },
  {
   "cell_type": "code",
   "execution_count": null,
   "id": "4417ed10-b4dd-4a26-ae5c-e3f8e9d0cc5e",
   "metadata": {},
   "outputs": [],
   "source": []
  },
  {
   "cell_type": "code",
   "execution_count": 16,
   "id": "9c7129e9-b023-484e-87ac-172d4a3f88aa",
   "metadata": {},
   "outputs": [
    {
     "name": "stdout",
     "output_type": "stream",
     "text": [
      "1\n"
     ]
    }
   ],
   "source": [
    "print(13//10)"
   ]
  },
  {
   "cell_type": "markdown",
   "id": "7cc5eb7b-8af3-44d8-9fb5-83049eb74cd6",
   "metadata": {},
   "source": [
    "### Ερωτήσεις\n",
    "- Τι είναι το **pow**;\n",
    "- Τι είναι το **div**;\n",
    "- Τι είναι το **div2**;\n",
    "- Τι είναι το **mod**;"
   ]
  },
  {
   "cell_type": "markdown",
   "id": "3fe741d8-658a-44b4-9c8a-8fb26731577c",
   "metadata": {},
   "source": [
    "### Break it\n",
    "- Τι γίνεται με τα κενά; Δοκιμάστε να αλλάξετε τα κενά (π.χ. sum = num1+num2)\n",
    "- Τι γίνεται αν διαιρέσω με 0; Τι γίνεται αν δώσω 0 / 0;\n",
    "- Γίνεται τριπλή πρόσθεση; Τριπλή αφαίρεση; Τετραπλή πρόσθεση;"
   ]
  },
  {
   "cell_type": "code",
   "execution_count": 18,
   "id": "ff53cd81-dedd-47c1-bae5-d67891c5e175",
   "metadata": {},
   "outputs": [
    {
     "name": "stdout",
     "output_type": "stream",
     "text": [
      "0.3333333333333333\n"
     ]
    }
   ],
   "source": [
    "print(1/3)"
   ]
  },
  {
   "cell_type": "markdown",
   "id": "502e0504-49fd-40a9-80d0-0005fcfb4f15",
   "metadata": {},
   "source": [
    "## Σχόλια\n",
    "Αν θέλω, μπορώ να βάζω **σχόλια** μέσα στον κώδικα. Αν στην αρχή μιας γραμμής βάλω ένα **#**, τότε όλη η γραμμή είναι σαν να μην υπάρχει, και την κρατάμε για εξηγήσεις/διευκρινήσεις"
   ]
  },
  {
   "cell_type": "markdown",
   "id": "01a094bf-a34b-4bd1-8747-5ddc452136be",
   "metadata": {},
   "source": [
    "## Πριν ξεκινήσουμε\n",
    "Σας χρωστάω αυτό από την προηγούμενη φορά, από εδώ βγαίνει το όνομα Python: https://www.youtube.com/watch?v=4HB7zqP9QNo)"
   ]
  },
  {
   "cell_type": "markdown",
   "id": "1f4b73c0-ae40-462d-936b-c97afe03c9c9",
   "metadata": {},
   "source": [
    "## Προτεραιότητα πράξεων"
   ]
  },
  {
   "cell_type": "code",
   "execution_count": null,
   "id": "d50b1c6a-a221-4ded-a34d-ee8118be5f09",
   "metadata": {},
   "outputs": [],
   "source": [
    "# Αυτή η γραμμή είναι ένα σχόλιο. Η Python δεν την διαβάζει καν, την αγνοεί αφού ξεκινάει με #\n",
    "# Και αυτή η γραμμή είναι σχόλιο.\n",
    "# Και αυτή. Τι αποτέλεσμα θα δώσει αυτή η πράξη;\n",
    "\n",
    "result1 = 6 * 6 - 6\n",
    "print(result1)\n",
    "\n",
    "result2 = 6 ** 2 / 2\n",
    "print(result2)\n",
    "\n",
    "result3 = 6 ** 2 % 2\n",
    "print(result3)"
   ]
  },
  {
   "cell_type": "markdown",
   "id": "7ccf52a1-6ba0-4b4c-b49d-fe41b20d8229",
   "metadata": {},
   "source": [
    "### Ερωτήσεις\n",
    "- Ποια είναι η προτεραιότητα πράξεων; Βάλτε σε σειρά τα **+**, **-**, **\\***, **/**, **\\*\\***, **//**, **%**."
   ]
  },
  {
   "cell_type": "markdown",
   "id": "f0e668d5-8728-42b2-879b-077c44f2a933",
   "metadata": {},
   "source": [
    "Αν θέλω, μπορώ να βάλω **παρενθέσεις** για να ορίσω συγκεκριμένη προτεραιότητα. Πάντα εκτελούνται πρώτα οι πράξεις ΜΕΣΑ στις παρενθέσεις."
   ]
  },
  {
   "cell_type": "code",
   "execution_count": null,
   "id": "d764b533-c620-4934-8fb1-8d94e8642466",
   "metadata": {},
   "outputs": [],
   "source": [
    "result = 6 * (6 - 6)\n",
    "print(result)"
   ]
  },
  {
   "cell_type": "markdown",
   "id": "fa54e39a-bff2-4e34-bea2-253bcddd2272",
   "metadata": {},
   "source": [
    "## Floats\n",
    "Στην Python, και γενικά στον προγραμματισμό, οι δεκαδικοί λέγονται **float**. Γενικά, έχουν παρόμοιες πράξεις με τους ακεραίους."
   ]
  },
  {
   "cell_type": "code",
   "execution_count": null,
   "id": "25874783-7247-4d8a-84b0-fb168c5a5d98",
   "metadata": {},
   "outputs": [],
   "source": [
    "float1 = 5.02\n",
    "float2 = 3.01\n",
    "sum = float1 + float2\n",
    "print(sum)\n",
    "\n",
    "dif = float1 - float2\n",
    "print(dif)\n",
    "\n",
    "mul = float1 * float2\n",
    "print(mul)\n",
    "\n",
    "div = flaat1 / float2\n",
    "print(div)"
   ]
  },
  {
   "cell_type": "markdown",
   "id": "5fb1926f-be61-4b3d-af8b-bfa6bb984f7f",
   "metadata": {},
   "source": [
    "- Αν κάνω πράξεις με έναν **int** και έναν **float**, τότε το αποτέλεσμα είναι **float**:"
   ]
  },
  {
   "cell_type": "code",
   "execution_count": null,
   "id": "5d4a14ef-d9be-4574-9f28-bafa27fa26e2",
   "metadata": {},
   "outputs": [],
   "source": [
    "num1 = 5\n",
    "num2 = 3.01\n",
    "sum = num1 + num2\n",
    "print(sum)\n",
    "print(type(sum))"
   ]
  },
  {
   "cell_type": "markdown",
   "id": "9b244493-206a-46a5-96af-262cda0d73b8",
   "metadata": {},
   "source": [
    "## Strings\n",
    "Στον προγραμματισμό, με string συμβολίζουμε το κείμενο. Για να ξέρει η Python ότι μιλάμε για κείμενο και όχι για όνομα μιας μεταβλητής (π.χ. *hello*), το περικλέιουμε με εισαγωγικά \" \":"
   ]
  },
  {
   "cell_type": "markdown",
   "id": "5cc8a36e-cc20-484c-b61e-959cbdaa9705",
   "metadata": {},
   "source": [
    "### Ερώτηση\n",
    "Από πού βγαίνει η λέξη string; "
   ]
  },
  {
   "cell_type": "code",
   "execution_count": null,
   "id": "9d330d17-f7b3-4383-bd5b-53726056a84d",
   "metadata": {},
   "outputs": [],
   "source": [
    "text = \"Hello, World!\"\n",
    "print(text)"
   ]
  },
  {
   "cell_type": "markdown",
   "id": "06d61462-567d-44c0-bc08-bde032b7d7ea",
   "metadata": {},
   "source": [
    "### Break it\n",
    "- Δοκιμάστε κείμενο που έχει πολλές γραμμές. Τι γίνεται;"
   ]
  },
  {
   "cell_type": "markdown",
   "id": "a1689e0c-0141-4bcd-8c7a-fc527d177b2f",
   "metadata": {},
   "source": [
    "Αν προσθέσω ένα string με έναν ακέραιο, το αποτέλεσμα δεν βγάλει νόημα, οπότε παίρνω σφάλμα (error):"
   ]
  },
  {
   "cell_type": "code",
   "execution_count": null,
   "id": "dc7d337e-b0b5-40cb-bd53-542d1810aa55",
   "metadata": {},
   "outputs": [],
   "source": [
    "text = \"Hello\"\n",
    "num = 5\n",
    "print(text + num)"
   ]
  },
  {
   "cell_type": "markdown",
   "id": "bf9f1b43-f05e-4553-9207-8713aacc5138",
   "metadata": {},
   "source": [
    "### Break it\n",
    "Δοκιμάστε τους εξής συνδυασμούς:\n",
    "- string - int\n",
    "- string + float\n",
    "- string * integer\n",
    "- string * float\n",
    "- string + string\n",
    "- string ** int\n",
    "- string - string\n",
    "- string * string\n",
    "Ποιοι από αυτούς ΔΕΝ δίνουν σφάλμα;"
   ]
  },
  {
   "cell_type": "markdown",
   "id": "4411de37-9593-4d1f-802c-fa86ef7d2102",
   "metadata": {},
   "source": [
    "## Bool\n",
    "- Bool ή boolean είναι ένας τύπος δεοδομένων που έχει μόνο δύο δυνατές τιμές, **True** ή **False**. Είναι ιδιαίτερα χρήσιμος στον προγραμματισμό\n",
    "- Μια χρήσιμη πράξη είναι το **not**, που αντιστρέφει την τιμή"
   ]
  },
  {
   "cell_type": "code",
   "execution_count": null,
   "id": "89750319-5d55-4268-b87a-8c2d9ffc5d7c",
   "metadata": {},
   "outputs": [],
   "source": [
    "boo1 = true\n",
    "print(boo1)\n",
    "boo2 = not boo1\n",
    "print(boo2)\n",
    "boo3 = not not boo1\n",
    "print(boo3)"
   ]
  },
  {
   "cell_type": "markdown",
   "id": "ce4cc72a-dac3-4bff-a26b-7b1c18a49476",
   "metadata": {},
   "source": [
    "### Ερώτηση\n",
    "Από βγαίνει το bool; Google is your friend!"
   ]
  },
  {
   "cell_type": "markdown",
   "id": "b5f3a158-af6d-45b3-89c3-35aa0dd5479d",
   "metadata": {},
   "source": [
    "(Μετά δείτε και το https://letmegooglethat.com/?q=Where+does+bool+come+from)"
   ]
  },
  {
   "cell_type": "markdown",
   "id": "d3ef335e-af0a-4161-a422-f76e2fa188d8",
   "metadata": {},
   "source": [
    "### Break it\n",
    "Δοκιμάστε:\n",
    "- bool + bool\n",
    "- bool - bool\n",
    "- bool + int\n",
    "- bool - int\n",
    "- bool + string\n",
    "- Και ό,τι άλλο θέλετε, surprise me!"
   ]
  },
  {
   "cell_type": "markdown",
   "id": "49bd51eb-512a-4991-b9ff-83fbc1775bcc",
   "metadata": {
    "scrolled": true
   },
   "source": [
    "## Conditionals\n",
    "- Με τα conditionals ελέγχουμε μια **συνθήκη**, και κάνουμε κάτι καν **ΑΝ** η συνθήκη ισχύει, δηλαδή είναι **True**.\n",
    "- Μετά τη συνθήκη, βάζουμε άνω κάτω τελεία:"
   ]
  },
  {
   "cell_type": "code",
   "execution_count": null,
   "id": "17885e0a-038e-4817-8574-bea1cce9c7d3",
   "metadata": {},
   "outputs": [],
   "source": [
    "number = 15\n",
    "if number > 10:\n",
    "    print(\"The number is greater than 10!\")"
   ]
  },
  {
   "cell_type": "markdown",
   "id": "d5b71bb7-03a6-47e9-96ca-7d56832d06d4",
   "metadata": {},
   "source": [
    "Για τις εντολές που θέλουμε να γίνουν ΜΟΝΟ αν ισχύει αυτή η συνθήκη, βάζουμε ένα **TAB** στην αρχή (εμφανισιακά, μπαίνουν \"μέσα\" στο if)."
   ]
  },
  {
   "cell_type": "code",
   "execution_count": null,
   "id": "c07594ab-38a0-4aac-9bdc-5c184179a9ce",
   "metadata": {},
   "outputs": [],
   "source": [
    "number = 5\n",
    "if number > 10:\n",
    "    print(\"The number is greater than 10!\")\n",
    "print(\"Αυτό θα εκτυπωθεί ούτως ή άλλως, γιατί το if έχει τελειώσει, δεν έχει tab αυτή η γραμμή\")\n",
    "if number < 10:\n",
    "    print(\"The number is less than 10!\")\n",
    "print(\"Και αυτό θα εκτυπωθεί ούτως ή άλλως, γιατί το if έχει τελειώσει, δεν έχει tab αυτή η γραμμή\")"
   ]
  },
  {
   "cell_type": "markdown",
   "id": "cdeacdd8-b923-4049-bb86-07e49e5b8141",
   "metadata": {},
   "source": [
    "### Συνάρτηση input()\n",
    "- Με αυτή τη συνάρτηση μπορούμε να περιμένουμε μέχρι να πάρουμε μια **είσοδο** από το πληκτρολόγιο, και να κάνουμε κάτι με αυτή (συνήθως να την αποθηκεύουμε σε μια μεταβλητή για μελλονιτκή χρήση).\n",
    "- Η είσοδος θα μας δίνεται πάντα ως **string**. Αν θέλουμε να την κάνουμε αριθμό, τότε πρέπει να την μετατρέψουμε σε ακέραιο με τη συνάρτηση **int()**: "
   ]
  },
  {
   "cell_type": "code",
   "execution_count": null,
   "id": "f2c6b4bd-5bf7-4360-a833-f542fe356b9d",
   "metadata": {},
   "outputs": [],
   "source": [
    "text = input()\n",
    "number = int(text)\n",
    "if number > 10:\n",
    "    print(\"The number is greater than 10!\")"
   ]
  },
  {
   "cell_type": "markdown",
   "id": "cfd4086f-9daa-48a1-8aa0-4dd7865de628",
   "metadata": {},
   "source": [
    "### elif, else\n",
    "- **Else**, κάνει αυτό που έχει στο περιεχόμενό του μόνο αν ήταν False ο προηγούμενος έλεγχος\n",
    "- **Elif**, βγαίνει από το else if, και κάνει τον έλεγχο μόνο αν ήταν False ο προηγούμενος έλεγχος"
   ]
  },
  {
   "cell_type": "code",
   "execution_count": null,
   "id": "17621d50-9d2c-4099-9066-4f6af4a7d468",
   "metadata": {},
   "outputs": [],
   "source": [
    "number = input()\n",
    "if number > 10:\n",
    "    print(\"The number is greater than 10!\")\n",
    "elif number < 10:\n",
    "    print(\"The number is less than 10!\")\n",
    "else:\n",
    "    print(\"The number is EXACTLY 10, WOW!\")"
   ]
  },
  {
   "cell_type": "markdown",
   "id": "01053f94-1627-4e9f-9b46-c1dd8068dbc4",
   "metadata": {},
   "source": [
    "### Άσκηση - Ψηφία\n",
    "Θέλουμε να δεχόμαστε έναν αριθμό από το πληκτρολόγιο, και να εκτυπώνουμε το αν ο αριθμός είναι μονοψήφιος, διψήφιος, τριψήφιος, ή έχει πάνω από 3 ψηφία. Go!"
   ]
  },
  {
   "cell_type": "markdown",
   "id": "12ed2e77-7bee-4982-bb5e-7381049bce8f",
   "metadata": {},
   "source": [
    "### Άσκηση - Μονά Ζυγά\n",
    "Θέλουμε να δεχόμαστε από το πληκτρολόγιο, και να εκτυπώνουμε το αν ο αριθμός είναι μονός ή ζυγός."
   ]
  },
  {
   "cell_type": "markdown",
   "id": "fa942b6c-d1c7-427f-8280-4cf4bd91762d",
   "metadata": {},
   "source": [
    "### Spicy Άσκηση - Πρώτοι\n",
    "Θέλουμε να δεχόμαστε έναν αριθμό από το πληκτρολόγιο, και να εκτυπώνουμε το αν ο αριθμός είναι πρώτος ή όχι."
   ]
  },
  {
   "cell_type": "markdown",
   "id": "43d0eadc-fbcc-4ece-af0d-e4258ab06a23",
   "metadata": {
    "jp-MarkdownHeadingCollapsed": true
   },
   "source": [
    "### Break It\n",
    "Σπάστε την Python με κάποιον ευφάνταστο τρόπο! You can try:\n",
    "- Συνδυασμός τύπων δεδομένων που δεν δοκιμάσαμε (π.χ. string ** bool)\n",
    "- Μία συνάρτηση μέσα στην άλλη: print(type(int(input())))\n",
    "- Τι γίνεται αν παίξω με κενά; π.χ. type (       number       )"
   ]
  },
  {
   "cell_type": "markdown",
   "id": "badbfc20-d854-47a3-a24e-6c9053e6a2bf",
   "metadata": {},
   "source": [
    "## While\n",
    "Ελέγχεται μια συνθήκη, και όσο είναι **True**, ό,τι βρίσκεται μέσα στο while (δηλαδή έχει ένα TAB μπροστά), τρέχει"
   ]
  },
  {
   "cell_type": "code",
   "execution_count": null,
   "id": "2f25cd7a-f53d-4843-9672-c638b4a77149",
   "metadata": {},
   "outputs": [],
   "source": [
    "i = 1\n",
    "while i <= 10:\n",
    "    print(i)\n",
    "    i = i + 1"
   ]
  },
  {
   "cell_type": "markdown",
   "id": "4177fe8f-6fad-419b-bbb2-e59243a0b62e",
   "metadata": {},
   "source": [
    "### Άσκηση\n",
    "Από το 1 έως και το 150, εκτύπωσε μόνο αριθμούς που διαιρόυνται με το 2 και το 3 ταυτόχρονα. Αλλά όχι αριθμούς που διαιρούνται με το 24. Και όχι συγκεκριμένα το 102 (είναι τρομακτικό)."
   ]
  },
  {
   "cell_type": "markdown",
   "id": "7a45b613-60d2-46c1-aa83-3d3d6ffab7f3",
   "metadata": {},
   "source": [
    "### Άσκηση Fibonacci"
   ]
  }
 ],
 "metadata": {
  "kernelspec": {
   "display_name": "Python 3 (ipykernel)",
   "language": "python",
   "name": "python3"
  },
  "language_info": {
   "codemirror_mode": {
    "name": "ipython",
    "version": 3
   },
   "file_extension": ".py",
   "mimetype": "text/x-python",
   "name": "python",
   "nbconvert_exporter": "python",
   "pygments_lexer": "ipython3",
   "version": "3.12.3"
  }
 },
 "nbformat": 4,
 "nbformat_minor": 5
}
