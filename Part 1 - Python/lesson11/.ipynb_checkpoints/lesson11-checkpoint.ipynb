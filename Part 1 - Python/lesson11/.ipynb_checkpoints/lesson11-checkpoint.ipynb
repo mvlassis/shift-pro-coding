{
 "cells": [
  {
   "cell_type": "markdown",
   "id": "cc710840-13dd-493e-bfd6-043f522e7884",
   "metadata": {},
   "source": [
    "## Επαναληπτική Άσκηση #1: FizzBuzz\n",
    "\n",
    "Θέλουμε από τους αριθμούς 1 έως και 100, να κάνουμε το εξής:\n",
    "- Αν ο αριθμός διαιρείται ακριβώς με το 3, να εκτυπώσουμε **fizz**\n",
    "- Αν ο αριθμός διαιρείται ακριβώς με το 5, να εκτυπώσουμε **buzz**\n",
    "- Αν ο αριθμός διαιρείεται ακριβώς με το 3 *και* το 5, να εκτυπώσουμε **fizzbuzz**\n",
    "- Διαφορετικά, να εκτυπώσουμε **τον ίδιο τον** αριθμό"
   ]
  },
  {
   "cell_type": "code",
   "execution_count": null,
   "id": "c2c7d212-660a-4208-b957-1a304e935a74",
   "metadata": {},
   "outputs": [],
   "source": [
    "# Γράφουμε από κάτω την άσκηση"
   ]
  },
  {
   "cell_type": "markdown",
   "id": "c49b377d-8776-468b-bf75-fe997a9f3217",
   "metadata": {},
   "source": [
    "## Επαναληπτική Άσκηση #2: Χρώματα\n",
    "- Θέλουμε μια συνάρτηση που λέγεται closest_color()\n",
    "- Δέχεται 3 αριθμούς, το **r**, το **g**, και το **b** που παίρνουν τιμές από 0 έως 255\n",
    "- Εκτυπώνει \"Red\" αν το χρώμα έχει περισσότερο κόκκινο, \"Green\" αν το χρώμα έχει περισσότερο πράσινο, \"Blue\" αν το χρώμα έχει περισσότερο πράσινο, και \"Gray\" αν δεν έχει κάποιο χρώμα που επικρατεί"
   ]
  },
  {
   "cell_type": "code",
   "execution_count": 3,
   "id": "f69f978c-6c28-4f5e-8e78-974d0b961e92",
   "metadata": {},
   "outputs": [],
   "source": [
    "import tkinter as tk\n",
    "\n",
    "def update_color(event=None):\n",
    "    # Get RGB values from sliders\n",
    "    r = slider_r.get()\n",
    "    g = slider_g.get()\n",
    "    b = slider_b.get()\n",
    "\n",
    "    # Update the color display\n",
    "    color_display.config(bg=f\"#{r:02x}{g:02x}{b:02x}\")\n",
    "    rgb_label.config(text=f\"RGB: ({r}, {g}, {b})\")\n",
    "\n",
    "# GUI setup\n",
    "root = tk.Tk()\n",
    "root.title(\"RGB Color Slider\")\n",
    "\n",
    "# Sliders for RGB\n",
    "slider_r = tk.Scale(root, from_=0, to=255, orient=\"horizontal\", label=\"Red\", command=update_color)\n",
    "slider_r.pack()\n",
    "\n",
    "slider_g = tk.Scale(root, from_=0, to=255, orient=\"horizontal\", label=\"Green\", command=update_color)\n",
    "slider_g.pack()\n",
    "\n",
    "slider_b = tk.Scale(root, from_=0, to=255, orient=\"horizontal\", label=\"Blue\", command=update_color)\n",
    "slider_b.pack()\n",
    "\n",
    "# Color display\n",
    "color_display = tk.Frame(root, width=300, height=100, bg=\"white\")\n",
    "color_display.pack(pady=10)\n",
    "\n",
    "# RGB Value Label\n",
    "rgb_label = tk.Label(root, text=\"RGB: (0, 0, 0)\")\n",
    "rgb_label.pack()\n",
    "\n",
    "# Run the GUI\n",
    "root.mainloop()\n"
   ]
  },
  {
   "cell_type": "code",
   "execution_count": null,
   "id": "9a8b5d15-b102-4564-9cb3-ff0e380b20a0",
   "metadata": {},
   "outputs": [],
   "source": [
    "# Γράφουμε από κάτω την άσκηση"
   ]
  },
  {
   "cell_type": "markdown",
   "id": "46172df7-3ac3-4854-8141-cfd0ca8fcd52",
   "metadata": {},
   "source": [
    "## Επαναληπτική Άσκηση #3: Random Sentence\n",
    "- Θέλουμε μια συνάρτηση που θα λέγεται random_sentence()\n",
    "- Θα ορίζει έναν πίνακα **subject** που θα έχει υποκείμενα\n",
    "- έναν πίνακα **verb** που θα έχει ρήματα\n",
    "- έναν πίνακα **obj** που θα έχει αντικείμενα\n",
    "- Θα διαλέγει τυχαία ένα αντικείμενο από κάθε αντικείμενο, με το random.choice\n",
    "- Θα τα ενώνει μεταξύ τους, και θα τα επιστρέφει"
   ]
  },
  {
   "cell_type": "code",
   "execution_count": null,
   "id": "fd0e64dc-f4be-4363-9871-9ffdca4efa03",
   "metadata": {},
   "outputs": [],
   "source": [
    "# Γράφουμε από κάτω την άσκηση"
   ]
  },
  {
   "cell_type": "markdown",
   "id": "0be1df03-0973-4da2-b9a0-b53d814330df",
   "metadata": {},
   "source": [
    "## Επαναληπτική Άσκηση #4: Guess the Number (Binary Search)\n",
    "- Θέλουμε μια συνάρτηση που θα λέγεται **guess_the_number()**.\n",
    "- Θα δέχεται έναν αριθμό από το 1 έως και το 1000, και πρέπει να τον μαντέψει σε λιγότερες από 10 ερωτήσεις. \n",
    "- Σε κάθε προσπάθεια ρωτάμε τον χρήστη: \"Is your number exactly, higher, or lower than\" και δίνουμε έναν αριθμό.\n",
    "- Πρέπει ανάλογα με την απάντηση (**H** για higher, **L**, για lower, **E** gia ακριβώς να δώσουμε άλλον αριθμό, μέχρι να καταλήξουμε στον τελικό αριθμό\n",
    "- Εκτυπώνουμε τον τελικό αριθμό"
   ]
  },
  {
   "cell_type": "code",
   "execution_count": null,
   "id": "bc3aa0d6-fbc0-4b93-84ec-0669a9096457",
   "metadata": {},
   "outputs": [],
   "source": [
    "# Γράφουμε εδώ την άσκηση"
   ]
  }
 ],
 "metadata": {
  "kernelspec": {
   "display_name": "Python 3 (ipykernel)",
   "language": "python",
   "name": "python3"
  },
  "language_info": {
   "codemirror_mode": {
    "name": "ipython",
    "version": 3
   },
   "file_extension": ".py",
   "mimetype": "text/x-python",
   "name": "python",
   "nbconvert_exporter": "python",
   "pygments_lexer": "ipython3",
   "version": "3.13.1"
  }
 },
 "nbformat": 4,
 "nbformat_minor": 5
}
