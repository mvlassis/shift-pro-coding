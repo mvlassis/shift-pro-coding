{
 "cells": [
  {
   "cell_type": "markdown",
   "id": "b5b0ffc7-0d46-473b-bb5f-56ba078e5963",
   "metadata": {},
   "source": [
    "## Επαναληπτικές"
   ]
  },
  {
   "cell_type": "markdown",
   "id": "bdc8f4ed-e9eb-4b53-b180-85c4f14d05f7",
   "metadata": {},
   "source": [
    "## Άσκηση 14.1: For loops\n",
    "\n",
    "Θέλουμε να εκτυπώσουμε:\n",
    "1. Τους αριθμούς από το 0 μέχρι και το 20\n",
    "2. Τους αριθμούς από το 5 μέχρι και το 50\n",
    "3. Την προπαίδεια του 5 μέχρι και το 50\n",
    "4. Την προπαίδεια του 5 από το 50 **ανάποδα**"
   ]
  },
  {
   "cell_type": "markdown",
   "id": "63eac89f-2220-4939-99cf-f8b0959afef4",
   "metadata": {},
   "source": [
    "## Άσκηση 14.2: Sum\n",
    "\n",
    "Υπολογίστε το άθροισμα όλων των αριθμών από το 1 έως και το 100."
   ]
  },
  {
   "cell_type": "markdown",
   "id": "698c12c4-e8dc-4215-87c9-53da8da51ab1",
   "metadata": {},
   "source": [
    "## Άσκηση 14.2: Fibonacci Vol. 1\n",
    "\n",
    "Γράψτε μια επανάληψη (while loop) που εκτυπώνει όλους τουρ αριθμούς Fibonacci από το 0 έως και το 1000."
   ]
  },
  {
   "cell_type": "markdown",
   "id": "204b2631-d853-4764-848e-fc9d987fcdf1",
   "metadata": {},
   "source": [
    "## Άσκηση 14.3: Fibonacci Vol. 2\n",
    "Θέλουμε μια συνάρτηση που λέγεται **fibonacci_list**, δέχεται ένα όρισμα **n**, και επιστρέφει μια λίστα με όλους τους αριθμούς Fibonacci μέχρι και το n. Για παράδειγμα: fibonacci(4) = [0, 1, 1, 2]. Δίνουμε από κάτω την Fibonacci που γράψαμε σε προηγούμενο μάθημα:"
   ]
  },
  {
   "cell_type": "markdown",
   "id": "418972b7-f6e5-4bbb-86dd-18ed6c73a67c",
   "metadata": {},
   "source": [
    "## Άσκηση 14.4: Switcheroo\n",
    "\n",
    "Γράψτε μια συνάρτηση που λέγεται **switcheroo()**, που θα δέχεται ένα όρισμα που θα λέγεται **string**, και θα επιστρέφει (return) το string αντιστραμμένο."
   ]
  },
  {
   "cell_type": "markdown",
   "id": "b27aa958-7956-4084-88db-986abd6a2c19",
   "metadata": {},
   "source": [
    "## Άσκηση 14.5: Δανάλυσις\n",
    "Γράψτε μια συνάρτηση που θα λέγεται **danalysis()**, που θα δέχεται ένα όρισμα που θα λέγεται **string**, και θα:\n",
    "- Εκτυπώνει τον πρώτο χαρακτήρα\n",
    "- Εκτυπώνει τον τελευταίο χαρακτήρα\n",
    "- Εκτυπώνει το μήκος του\n",
    "- Εκτυπώνει όλους τους χαρακτήρες με κεφαλαία"
   ]
  },
  {
   "cell_type": "markdown",
   "id": "2321b426-cde4-497c-bed9-0d7b9fb7aa37",
   "metadata": {},
   "source": [
    "## Άσκηση 14.6: Fibonacci Vol. 3\n",
    "\n",
    "Γράψτε μια συνάρτηση που δέχεται έναν αριθμό από το **input()**, και ελέγχει αν βρίσκεται μέσα στους πρώτους 20 αριθμούς Fibonacci."
   ]
  },
  {
   "cell_type": "code",
   "execution_count": null,
   "id": "b1ec5466-c113-4b51-968e-5456367cfe98",
   "metadata": {},
   "outputs": [],
   "source": []
  }
 ],
 "metadata": {
  "kernelspec": {
   "display_name": "Python 3 (ipykernel)",
   "language": "python",
   "name": "python3"
  },
  "language_info": {
   "codemirror_mode": {
    "name": "ipython",
    "version": 3
   },
   "file_extension": ".py",
   "mimetype": "text/x-python",
   "name": "python",
   "nbconvert_exporter": "python",
   "pygments_lexer": "ipython3",
   "version": "3.13.1"
  }
 },
 "nbformat": 4,
 "nbformat_minor": 5
}
