{
 "cells": [
  {
   "cell_type": "markdown",
   "id": "f9872df1-6579-4bbe-a423-fbf7664fbd38",
   "metadata": {},
   "source": [
    "# Λίστες\n",
    "\n",
    "- Οι λίστες είναι μια δομή δεδομένων (data structure). Είναι ένας (από τους πολλούς) τρόπους να αναπαραστήσουμε ένα σύνολο από αντικείμενα.\n",
    "- Στην Python, οι λίστες συμβολίζονται με αγκύλες **[**, **]**, και τα αντικείμενα χωρίζονται μεταξύ τους με κόμματα.\n",
    "- Μπορούμε να ζητήσουμε όλη τη λίστα με το όνομά της, ή ένα στοιχείο της με το σύμβολο **[<δείκτη>]**, όπου <δείκτης> είναι η θέση του αντικειμένου που μας ενδιαφέρει\n",
    "- Όλες οι δομές δεδομένων ξεκινάνε με το στοιχείο 0. "
   ]
  },
  {
   "cell_type": "code",
   "execution_count": null,
   "id": "6868e026-4499-46b5-b73d-d2939675a60a",
   "metadata": {
    "scrolled": true
   },
   "outputs": [],
   "source": [
    "# Παράδειγμα λίστας\n",
    "\n",
    "scores = [3, 6, 7, 9]\n",
    "\n",
    "print(scores[0])\n",
    "print(scores[1])\n",
    "print(scores[2])\n",
    "print(scores[3])\n",
    "print(scores)\n",
    "print(type(scores))"
   ]
  },
  {
   "cell_type": "code",
   "execution_count": null,
   "id": "4b8b0fbc-9f34-4f1b-bc7b-78c63f51da00",
   "metadata": {},
   "outputs": [],
   "source": [
    "# Μπορούμε να κάνουμε λίστες και με άλλα είδη δεδομένων (π.χ. float, string, bool)\n",
    "\n",
    "onomata = [\"Panos\", \"Konstantinos\", \"Andreas\"]\n",
    "print(onomata[0])\n",
    "print(onomata[1])\n",
    "print(onomata[2])\n",
    "print(onomata)"
   ]
  },
  {
   "cell_type": "code",
   "execution_count": null,
   "id": "881f6d99-f464-4e41-bc91-5d946a9f678e",
   "metadata": {},
   "outputs": [],
   "source": [
    "# Κενή λίστα είναι μια λίστα που δεν έχει αντικείμενα\n",
    "empty_list = []"
   ]
  },
  {
   "cell_type": "markdown",
   "id": "9a6504dc-3090-4ec7-9025-2565808e9921",
   "metadata": {},
   "source": [
    "## Ερωτήσεις\n",
    "Τι θα γίνει αν ζητήσουμε:\n",
    "- Δείκτη μεγαλύτερο από τον αριθμό των στοιχείων;\n",
    "- Αρνητικό δείκτη;\n",
    "- Δεκαδικό αριθμό για δείκτη;\n",
    "- Κείμενο για δείκτη;"
   ]
  },
  {
   "cell_type": "code",
   "execution_count": null,
   "id": "c80831d2-9607-4708-b838-7379d93492d5",
   "metadata": {},
   "outputs": [],
   "source": [
    "# Δοκιμάστε εδώ τις ερωτήσεις"
   ]
  },
  {
   "cell_type": "markdown",
   "id": "66cd2a5b-8fdf-4b5b-bfd7-8ba44be8c545",
   "metadata": {},
   "source": [
    "### Προσθήκη αντικειμένων\n",
    "Μπορούμε να προσθέσουμε αντικείμενα σε μια λίστα καλώντας πάνω σε αυτήν τη συνάρτηση **.append(<αντικείμενο>)**, όπου <αντικείμενο> αυτό που θα προστεθεί."
   ]
  },
  {
   "cell_type": "code",
   "execution_count": null,
   "id": "3c41622a-15d2-48e2-aca9-885dee0a975f",
   "metadata": {},
   "outputs": [],
   "source": [
    "lisa = []\n",
    "lisa.append(4)\n",
    "print(lisa)"
   ]
  },
  {
   "cell_type": "code",
   "execution_count": null,
   "id": "18f7c3fe-f325-43a1-b111-61588e737216",
   "metadata": {},
   "outputs": [],
   "source": [
    "lisa.append(8)\n",
    "print(lisa)"
   ]
  },
  {
   "cell_type": "code",
   "execution_count": null,
   "id": "8e85ef19-2022-43b1-b615-569da35d9bc9",
   "metadata": {},
   "outputs": [],
   "source": [
    "lisa.append(12)\n",
    "print(lisa)\n",
    "print(lisa[2])"
   ]
  },
  {
   "cell_type": "markdown",
   "id": "dd6b0110-c503-4fea-8f8f-eccef0f2bdca",
   "metadata": {},
   "source": [
    "### Αφαίρεση αντικειμένων\n",
    "Με καλώντας τη συνάρτηση **.pop()**, αφαιρούμε το τελευταίο αντικείμενο. Με τη συνάρτηση **.pop(<δείκτης>)**, αφαιρούμε το αντικέιμενο σε αυτή τη θέση"
   ]
  },
  {
   "cell_type": "code",
   "execution_count": null,
   "id": "ba570d2d-b219-4b63-a464-53e9a5623b94",
   "metadata": {},
   "outputs": [],
   "source": [
    "lisa = [5, 10, 15, 20]\n",
    "lisa.pop()\n",
    "print(lisa)\n",
    "lisa.pop(1)\n",
    "print(lisa)"
   ]
  },
  {
   "cell_type": "markdown",
   "id": "81b3f7ad-8f73-44e3-8724-b90f917bebf6",
   "metadata": {},
   "source": [
    "### Αντιστροφή & Μηδενισμός\n",
    "Με τη συνάρτηση **reverse()**, αντιστρέφουμε τη λίστα, ενώ με τη συνάρητση **clear()**, τη μηδενίζουμε (δηλαδή η λίστα γίνεται κενή)"
   ]
  },
  {
   "cell_type": "code",
   "execution_count": null,
   "id": "5cd45d4e-df7d-4c61-85f5-eb69da4a2cc3",
   "metadata": {},
   "outputs": [],
   "source": [
    "items = [11, 22, 33, 44]\n",
    "items.reverse()\n",
    "print(items)\n",
    "\n",
    "items.clear()\n",
    "print(items)"
   ]
  },
  {
   "cell_type": "markdown",
   "id": "eba79436-5339-4d90-aa38-25c70e9d42eb",
   "metadata": {},
   "source": [
    "### Άσκηση στις συναρτήσεις\n",
    "Ποια θα είναι η τελική λίστα:"
   ]
  },
  {
   "cell_type": "code",
   "execution_count": null,
   "id": "046b2763-322e-4f78-b0e5-cc02f3d73c6b",
   "metadata": {},
   "outputs": [],
   "source": [
    "lisa = []\n",
    "lisa.append(8)\n",
    "lisa.append(16)\n",
    "lisa.pop()\n",
    "lisa.append(24)\n",
    "lisa.pop(1)\n",
    "lisa.append(32)\n",
    "lisa.append(40)\n",
    "lisa.reverse()\n",
    "print(lisa)"
   ]
  },
  {
   "cell_type": "markdown",
   "id": "14eca1dd-eef0-4ee5-bee3-72c3637cf2b8",
   "metadata": {},
   "source": [
    "## Strings (ξανά)\n",
    "Στην πραγματικότητα, ένα string είναι μια *λίστα από χαρακτήρες* (γραμματα)"
   ]
  },
  {
   "cell_type": "code",
   "execution_count": null,
   "id": "3e3057a8-dd9b-42f6-93a1-f844a3138203",
   "metadata": {},
   "outputs": [],
   "source": [
    "onoma = \"Konstantinos\"\n",
    "print(type(onoma))\n",
    "print(onoma[0])\n",
    "print(onoma[1])\n",
    "print(onoma[-1])"
   ]
  },
  {
   "cell_type": "markdown",
   "id": "885f4ffe-1a06-433b-a09e-2bb801fcc2c2",
   "metadata": {},
   "source": [
    "### Slices (κομμάτια)\n",
    "Μπορούμε να πάρουμε ένα κομμάτι μιας λίστα δίνοντας εύρος μέσα στις αγκύλες με το σύμβολο **<αρχή>:<τέλος>**. Ξεκινάμε από τον δείκτη <αρχή> και πηγαίνουμε μέχρι τον δείκτη <τέλος>"
   ]
  },
  {
   "cell_type": "code",
   "execution_count": null,
   "id": "68de0ef6-fa74-4622-b5cb-8daab5cfc384",
   "metadata": {},
   "outputs": [],
   "source": [
    "# Παράδειγμα από slices\n",
    "greeting = \"Hello, World!\"\n",
    "print(greeting[0:5])\n",
    "print(greeting[2:6])\n",
    "print(greeting[3:10])"
   ]
  },
  {
   "cell_type": "code",
   "execution_count": null,
   "id": "6ebc88a0-c0f2-47bf-8430-e7c5d345ce39",
   "metadata": {},
   "outputs": [],
   "source": [
    "# Αντίστοιχα μπορούμε και σε λίστες με άλλα αντικείμενα\n",
    "propaideia = [5, 10, 15, 20, 25, 30, 35, 40, 45, 50]\n",
    "print(propaideia[2:6])"
   ]
  },
  {
   "cell_type": "markdown",
   "id": "42f24e10-df62-4f5e-8fa8-96857bea7069",
   "metadata": {},
   "source": [
    "### Προσθήκη σε συγκεκριμένο σημείο\n",
    "Με το **.insert(<θέση>, <στοιχείο>)** προσθέτουμε **πριν** τη συγκεκριμένη θέση ένα αντικείμενο:"
   ]
  },
  {
   "cell_type": "code",
   "execution_count": null,
   "id": "3fea4abb-dd92-4851-8cac-81098c311886",
   "metadata": {},
   "outputs": [],
   "source": [
    "fruits = [\"apple\", \"banana\", \"cherry\"]\n",
    "fruits.insert(0, \"lime\")\n",
    "print(fruits)\n",
    "fruits.insert(2, \"avocado\")\n",
    "print(fruits)\n",
    "fruits.insert(-1, \"peach\")\n",
    "print(fruits)"
   ]
  },
  {
   "cell_type": "markdown",
   "id": "5a888d75-be3c-4782-bc13-14be2c69a2b7",
   "metadata": {},
   "source": [
    "### Μήκος λίστας\n",
    "Παίρνουμε εύκολα το μήκος μιας λίστας (δηλαδή το πόσα αντικείμενα έχει τη δεδομένη χρονική στιγμή) με τη συνάρτηση **len(<λίστα>)**:"
   ]
  },
  {
   "cell_type": "code",
   "execution_count": null,
   "id": "6e5ac201-3a54-4f32-a395-318bd2cc7427",
   "metadata": {},
   "outputs": [],
   "source": [
    "propaideia = [5, 10, 15, 20, 25]\n",
    "print(len(propaideia))\n",
    "propaideia.pop()\n",
    "print(len(propaideia))\n",
    "propaideia.append(50)\n",
    "print(len(propaideia))\n",
    "propaideia.clear()\n",
    "print(len(propaideia))"
   ]
  },
  {
   "cell_type": "markdown",
   "id": "a2d70cd3-2897-4507-8d3f-00c22553776c",
   "metadata": {},
   "source": [
    "### Ύπαρξη αντικειμένου στη λίστα\n",
    "Μπορούμε να ελέγξουμε αν ένα αντικείμενο ανήκει σε μια λίστα με τη φράση **<αντικείμενο> in <λίστα>**:"
   ]
  },
  {
   "cell_type": "code",
   "execution_count": null,
   "id": "112b6f56-5a53-4815-8031-4f51f06e2b30",
   "metadata": {},
   "outputs": [],
   "source": [
    "fruits = [\"apple\", \"banana\", \"cherry\"]\n",
    "if \"apple\" in fruits:\n",
    "    print(\"Apple exists in fruits\")\n",
    "if \"orange\" in fruits:\n",
    "    print(\"Orange exists in fruits\")"
   ]
  },
  {
   "cell_type": "markdown",
   "id": "2e9a99a7-4a24-4e30-8910-1131fdccf6b3",
   "metadata": {},
   "source": [
    "## Άσκηση 12.1: Suspiciously specific sequence\n",
    "Θέλουμε να φτιάξουμε μια λίστα που θα λέγεται **specific** και θα έχει όλους τους αριθμούς που διαιρούνται με το 3 και το 5, και είναι μεταξύ του 200 και του 600."
   ]
  },
  {
   "cell_type": "code",
   "execution_count": null,
   "id": "504da5f1-25b9-4ff7-a7a0-0c6ef2b83d8f",
   "metadata": {},
   "outputs": [],
   "source": []
  },
  {
   "cell_type": "markdown",
   "id": "90a68857-281c-4ca4-81d8-27d91bb0523f",
   "metadata": {},
   "source": [
    "## Άσκηση 12.2: Edit list\n",
    "Θέλουμε μια συνάρτηση που θα λέγεται edit_list(), θα δέχεται ένα όρισμα που θα λέγεται **lisa** και θα είναι τύπου λίστα. Η συνάρτηση θα πρέπει να κάνει τα εξής (με σειρά):\n",
    "- Να βρίσκει το πρώτο στοιχείο και να το προσθέτει στο τέλος\n",
    "- Να βρίσκει το δεύτερο στοιχείο και να το προσθέτει στο τέλος\n",
    "- Να αφαιρεί το τρίτο στοιχείο\n",
    "- Προσθέτει **πριν** το δεύτερο στοιχείο το τελευταίο στοιχείο\n",
    "- Να αντιστρέφει τη λίστα\n",
    "- Να εκτυπώνει το μήκος της"
   ]
  },
  {
   "cell_type": "markdown",
   "id": "1d3c461b-9b09-4f19-876c-ec3627a790b4",
   "metadata": {},
   "source": [
    "## Άσκηση 12.3: Fibonacci Vol. 3\n",
    "Θέλουμε μια συνάρτηση που λέγεται **fibonacci**, δέχεται ένα όρισμα **n**, και επιστρέφει μια λίστα με όλους τους αριθμούς Fibonacci μέχρι και το n. Για παράδειγμα: fibonacci(4) = [0, 1, 1, 2]. Δίνουμε από κάτω την Fibonacci που γράψαμε σε προηγούμενο μάθημα:"
   ]
  },
  {
   "cell_type": "code",
   "execution_count": null,
   "id": "580743a3-ad7f-45eb-9ed0-bbf984e43ea7",
   "metadata": {},
   "outputs": [],
   "source": [
    "def fibonacci(n):\n",
    "    if n <= 0:\n",
    "        return 0\n",
    "    elif n == 1:\n",
    "        return 1\n",
    "\n",
    "    a, b = 0, 1  # Οι πρώτοι 2 αριθμοί Fibonacci\n",
    "    counter = 2  # Start from the 2nd index\n",
    "    while counter <= n:\n",
    "        # Ο επόμενος μικρός είναι ο προηγούμενος μεγάλος\n",
    "        # Ο επόμενος μεγάλος είναι το άθροισμα των 2 προηγούμενων\n",
    "        a, b = b, a + b  \n",
    "        counter += 1\n",
    "    return b\n",
    "\n",
    "# Example usage\n",
    "print(fibonacci(5))  # Output: 5\n"
   ]
  },
  {
   "cell_type": "markdown",
   "id": "16588054-e8ba-48ea-b43c-aa8da96402a2",
   "metadata": {},
   "source": [
    "## Άσκηση 12.4: Shopping Basket\n",
    "Δίνεται ένα καλάθι με αντικείμενα σε μορφή λίστας που λέγεται shopping basket. Θέλουμε μια συνάρτηση που θα λέγεται **check_list()**, που δέχεται 0 ορίσματα, παίρνει από τον χρήστη ένα αντικείμενο (με το **input()**), και αν υπάρχει στη λίστα, εκτυπώνει \"The item already exists!\". Αλλιώς, εκτυπώνει \"The item doesn't exist, adding it...\", και το προσθέτει στη λίστα. Η λίστα αρχικά είναι κενή."
   ]
  },
  {
   "cell_type": "code",
   "execution_count": null,
   "id": "581834fb-4fd4-4825-9c2d-f5b0dec39d0f",
   "metadata": {},
   "outputs": [],
   "source": []
  }
 ],
 "metadata": {
  "kernelspec": {
   "display_name": "Python 3 (ipykernel)",
   "language": "python",
   "name": "python3"
  },
  "language_info": {
   "codemirror_mode": {
    "name": "ipython",
    "version": 3
   },
   "file_extension": ".py",
   "mimetype": "text/x-python",
   "name": "python",
   "nbconvert_exporter": "python",
   "pygments_lexer": "ipython3",
   "version": "3.13.1"
  }
 },
 "nbformat": 4,
 "nbformat_minor": 5
}
