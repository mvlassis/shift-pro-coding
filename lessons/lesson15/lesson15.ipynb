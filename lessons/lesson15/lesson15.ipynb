{
 "cells": [
  {
   "cell_type": "markdown",
   "id": "659d33f6-e288-4888-b857-915f0a26bc29",
   "metadata": {},
   "source": [
    "## Άσκηση 15.1: Fibonacci Vol. 1\n",
    "\n",
    "Γράψτε μια επανάληψη (while loop) που εκτυπώνει τους πρώτους 20 αριθμούς Fibonacci."
   ]
  },
  {
   "cell_type": "code",
   "execution_count": null,
   "id": "afecdb7b-4a76-4e49-9893-937f0eeb5740",
   "metadata": {},
   "outputs": [],
   "source": []
  },
  {
   "cell_type": "markdown",
   "id": "9ae2df42-febe-4b9c-809c-086bd5431a4b",
   "metadata": {},
   "source": [
    "## Άσκηση 15.2: Fibonacci Vol. 2\n",
    "\n",
    "Γράψτε μια συνάρτηση που λέγεται **fibonacci()**, δέχεται ένα όρισμα **n**, και επιστρέφει (returns) τον αριθμό Fibonacci στη θέση **n**. Για παράδειγμα:\n",
    "- Στη θέση 0 είναι το 0\n",
    "- Στη θέση 1 είναι το 1\n",
    "- Στη θέση 2 είναι το 1\n",
    "- Στη θέση 3 είναι το 2, κ.ο.κ.\n"
   ]
  },
  {
   "cell_type": "code",
   "execution_count": null,
   "id": "b55c063e-44fa-4d98-9fbe-5fd0a9d44f98",
   "metadata": {},
   "outputs": [],
   "source": []
  },
  {
   "cell_type": "markdown",
   "id": "209b4c8e-e41c-4dcf-bde8-7046c983834e",
   "metadata": {},
   "source": [
    "## Άσκηση 15.3: Fibonacci Vol. 3\n",
    "Γράψτε μια συνάρτηση που λέγεται **fibonacci_list()**, δέχεται ένα όρισμα **n**, και επιστρέφει μια λίστα με όλους τους αριθμούς Fibonacci μέχρι και το n. Για παράδειγμα: fibonacci(4) = [0, 1, 1, 2]. Δίνουμε από κάτω την Fibonacci που γράψαμε σε προηγούμενο μάθημα:"
   ]
  },
  {
   "cell_type": "code",
   "execution_count": null,
   "id": "6aa9da48-12a4-4ece-bfbf-ec3a97d277f7",
   "metadata": {},
   "outputs": [],
   "source": []
  },
  {
   "cell_type": "markdown",
   "id": "a0e721e6-ac07-4e68-8ac6-920f9551afbc",
   "metadata": {},
   "source": [
    "## Άσκηση 15.4: Fibonacci Vol. 4\n",
    "\n",
    "Γράψτε μια συνάρτηση που λέγεται **fibonacci_check_20()**, δέχεται 0 ορίσματα, και:\n",
    "- Διαβάζει έναν αριθμό από το **input()**\n",
    "- Ελέγχει αν βρίσκεται μέσα στους πρώτους 20 αριθμούς Fibonacci.\n",
    "- Αν ναι, εκτυπώνει \"This is a Fibonacci number! :)\", διαφορετικά εκτυπώνει \"This is NOT a Fibonacci number :(\""
   ]
  },
  {
   "cell_type": "code",
   "execution_count": null,
   "id": "3e0ce7ed-33f0-41f3-89e3-bb71688056c2",
   "metadata": {},
   "outputs": [],
   "source": []
  },
  {
   "cell_type": "markdown",
   "id": "700d253c-3cfa-4e90-b00c-2437cf706e60",
   "metadata": {},
   "source": [
    "## Άσκηση 15.5: Fibonacci Vol. 5\n",
    "\n",
    "Γράψτε μια συνάρτηση που λέγεται **fibonacci_check_n()**, δέχεται 2 ορίσματα **n** και **lim**, και:\n",
    "- Ελέγχει αν o αριθμός **n** βρίσκεται μέσα στους πρώτους **lim** αριθμούς Fibonacci.\n",
    "- Αν ναι, εκτυπώνει \"This is a Fibonacci number! :)\", διαφορετικά εκτυπώνει \"This is NOT a Fibonacci number :(\""
   ]
  },
  {
   "cell_type": "code",
   "execution_count": null,
   "id": "5d2c9d48-ec82-4e26-8ca5-31b4b73947fb",
   "metadata": {},
   "outputs": [],
   "source": []
  },
  {
   "cell_type": "markdown",
   "id": "4772e975-69d3-43d0-8138-877bf4158086",
   "metadata": {},
   "source": [
    "## Άσκηση 15.6: Factorial\n",
    "\n",
    "Γράψτε μια συνάρτηση που λέγεται **factorial()**, δέχεται 1 όρισμα n, και επιστρέφει το **n!** (n παραγοντικό)"
   ]
  },
  {
   "cell_type": "code",
   "execution_count": null,
   "id": "62e74bdf-af15-42a3-9a54-1e1727095ad5",
   "metadata": {},
   "outputs": [],
   "source": []
  }
 ],
 "metadata": {
  "kernelspec": {
   "display_name": "Python 3 (ipykernel)",
   "language": "python",
   "name": "python3"
  },
  "language_info": {
   "codemirror_mode": {
    "name": "ipython",
    "version": 3
   },
   "file_extension": ".py",
   "mimetype": "text/x-python",
   "name": "python",
   "nbconvert_exporter": "python",
   "pygments_lexer": "ipython3",
   "version": "3.13.1"
  }
 },
 "nbformat": 4,
 "nbformat_minor": 5
}
