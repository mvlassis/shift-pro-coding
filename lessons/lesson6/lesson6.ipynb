{
 "cells": [
  {
   "cell_type": "markdown",
   "id": "84713521-818a-4f77-9091-fc5a767dded9",
   "metadata": {},
   "source": [
    "## Επαναλήψεις (Loops)"
   ]
  },
  {
   "cell_type": "markdown",
   "id": "e508a46f-8329-43ec-bf97-abef02eeea6d",
   "metadata": {},
   "source": [
    "### While\n",
    "\n",
    "Ελέγχει μια **συνθήκη**, και όσο είναι True, τότε εκτελεί αυτά που βρίσκονται μέσα στο block. Αφού τελειώσει το block, τότε ξαναπηγαίνει στην αρχή και ξαναελέγχει τη συνθήκη"
   ]
  },
  {
   "cell_type": "code",
   "execution_count": 13,
   "id": "6cb141fd-b6c2-4233-ab83-2d1a362feb1b",
   "metadata": {},
   "outputs": [
    {
     "name": "stdout",
     "output_type": "stream",
     "text": [
      "1\n",
      "2\n",
      "3\n",
      "4\n",
      "5\n",
      "6\n",
      "7\n",
      "8\n",
      "9\n"
     ]
    }
   ],
   "source": [
    "# Αρχικοποιούμε μια μεταβλητή, και της αλλάζουμε την τιμή κάθε φορά\n",
    "k = 1\n",
    "while k < 10:\n",
    "    print(k)\n",
    "    k = k + 1"
   ]
  },
  {
   "cell_type": "code",
   "execution_count": 14,
   "id": "386d28fd-39c6-42e2-974f-f2727d67f116",
   "metadata": {},
   "outputs": [
    {
     "name": "stdout",
     "output_type": "stream",
     "text": [
      "100\n",
      "95\n",
      "90\n",
      "85\n",
      "80\n",
      "75\n",
      "70\n",
      "65\n",
      "60\n",
      "55\n",
      "50\n",
      "45\n",
      "40\n",
      "35\n",
      "30\n",
      "25\n",
      "20\n",
      "15\n",
      "10\n"
     ]
    }
   ],
   "source": [
    "# Μπορούμε να πηγαίνουμε και από μεγάλους σε μικρούς αριθμούς\n",
    "i = 100\n",
    "while i >= 10:\n",
    "    print(i)\n",
    "    i = i - 5"
   ]
  },
  {
   "cell_type": "markdown",
   "id": "90c7c6ee-c5fa-4337-9b86-ecd7b5b9f0e8",
   "metadata": {},
   "source": [
    "### Άσκηση 1\n",
    "Θέλουμε όλους τους αριθμούς έως και το 200 που διαιρούνται με το 2"
   ]
  },
  {
   "cell_type": "code",
   "execution_count": 3,
   "id": "aa40f5ea-6177-45a7-9afa-89f66e793b7c",
   "metadata": {},
   "outputs": [
    {
     "name": "stdout",
     "output_type": "stream",
     "text": [
      "0\n",
      "60\n",
      "120\n",
      "180\n"
     ]
    }
   ],
   "source": [
    "i = 0\n",
    "while i <= 200:\n",
    "    if i % 2 == 0 and i % 3 == 0 and i % 5 == 0 and i % 60 == 0:\n",
    "        print(i)\n",
    "    i = i + 1"
   ]
  },
  {
   "cell_type": "markdown",
   "id": "c5ce6a78-ec8a-467d-a647-2be08cc9d0ac",
   "metadata": {},
   "source": [
    "### Άσκηση 2\n",
    "Θέλουμε να εκτυπώσουμε όλους τους αριθμούς έως και το 200, που διαιρούνται με το 2 και το 3, αλλά όχι με το 24."
   ]
  },
  {
   "cell_type": "markdown",
   "id": "e7d18ccd-222c-4be6-9660-6a8adb759e3c",
   "metadata": {},
   "source": [
    "### Break\n",
    "Με το **break** \"σπάμε\" από μια λούπα, και προχωράμε στην επόμενη εντολή μετά το while. Είναι χρήσιμο όταν θέλουμε να σταματήσουμε κάποια συγκεκριμένη στιγμή."
   ]
  },
  {
   "cell_type": "code",
   "execution_count": null,
   "id": "6df24df2-3537-4155-850c-9ba99d92e00a",
   "metadata": {},
   "outputs": [],
   "source": [
    "# Τι κάνει αυτή η λούπα;\n",
    "i = 1\n",
    "while True:\n",
    "    print(i ** 2)\n",
    "    i = i + 1\n",
    "    if i > 50:\n",
    "        break"
   ]
  },
  {
   "cell_type": "markdown",
   "id": "b737190d-484f-45ef-81f4-8af9e689b84c",
   "metadata": {},
   "source": [
    "## Άσκηση 3: Θέλουμε να εκτυπώσουμε όλους τους αριθμούς Fibonacci μέχρι και το 1000"
   ]
  },
  {
   "cell_type": "code",
   "execution_count": 7,
   "id": "e77c6964-86ee-4a9e-9b08-8503992b056a",
   "metadata": {},
   "outputs": [
    {
     "name": "stdin",
     "output_type": "stream",
     "text": [
      " 50\n"
     ]
    }
   ],
   "source": [
    "x = input()\n",
    "number = int(x)"
   ]
  },
  {
   "cell_type": "code",
   "execution_count": 2,
   "id": "f900f00b-f58d-4f96-b2a8-7155f8b13c0f",
   "metadata": {},
   "outputs": [
    {
     "name": "stdin",
     "output_type": "stream",
     "text": [
      "Δώσε μου αριθμό: 10\n"
     ]
    },
    {
     "name": "stdout",
     "output_type": "stream",
     "text": [
      "0\n",
      "1\n",
      "1\n",
      "2\n",
      "3\n",
      "5\n",
      "8\n",
      "13\n",
      "21\n",
      "34\n"
     ]
    }
   ],
   "source": [
    "x = input(\"Δώσε μου αριθμό:\")\n",
    "x2 = int(x)\n",
    "\n",
    "small = 0\n",
    "big = 1\n",
    "\n",
    "counter = 1\n",
    "\n",
    "while counter <= x2:\n",
    "    print(small)\n",
    "    next = small + big\n",
    "    small = big\n",
    "    big = next\n",
    "    counter = counter + 1"
   ]
  },
  {
   "cell_type": "markdown",
   "id": "5d86e57c-c5f6-46c5-bbcb-3e4f773d460f",
   "metadata": {},
   "source": [
    "## For loop\n",
    "Η δεύτερη βασική μορφή επανάληψης, για όταν ξέρουμε ακριβώς τις φορές που θέλουμε να επαναλάβουμε κάτι"
   ]
  },
  {
   "cell_type": "code",
   "execution_count": 5,
   "id": "5fcdbffa-f110-4feb-b4e5-62615944c866",
   "metadata": {},
   "outputs": [
    {
     "name": "stdout",
     "output_type": "stream",
     "text": [
      "Αρκεί ένας αριθμός μέσα στο range\n",
      "0\n",
      "1\n",
      "2\n",
      "3\n",
      "4\n",
      "5\n",
      "6\n",
      "7\n",
      "8\n",
      "9\n",
      "Μπορούμε και με 2 αριθμούς στο range, ορίζουν το κάτω και το πάνω όριο\n",
      "10\n",
      "11\n",
      "12\n",
      "13\n",
      "14\n",
      "15\n",
      "16\n",
      "17\n",
      "18\n",
      "19\n",
      "20\n",
      "21\n",
      "22\n",
      "23\n",
      "24\n",
      "25\n",
      "26\n",
      "27\n",
      "28\n",
      "29\n",
      "30\n",
      "31\n",
      "32\n",
      "33\n",
      "34\n",
      "35\n",
      "36\n",
      "37\n",
      "38\n",
      "39\n",
      "Μπορούμε και με 3 αριθμούς στο range, ο τρίτος ορίζει το βήμα\n",
      "10\n",
      "15\n",
      "20\n",
      "25\n",
      "30\n",
      "35\n"
     ]
    }
   ],
   "source": [
    "print(\"Αρκεί ένας αριθμός μέσα στο range\")\n",
    "for i in range(10):\n",
    "    print(i)\n",
    "\n",
    "print(\"Μπορούμε και με 2 αριθμούς στο range, ορίζουν το κάτω και το πάνω όριο\")\n",
    "for i in range(10, 40):\n",
    "    print(i)\n",
    "\n",
    "print(\"Μπορούμε και με 3 αριθμούς στο range, ο τρίτος ορίζει το βήμα\")\n",
    "for i in range(10, 40, 5):\n",
    "    print(i)"
   ]
  },
  {
   "cell_type": "code",
   "execution_count": 6,
   "id": "9e989c1e-054b-43f0-ac04-98ec4ede315e",
   "metadata": {},
   "outputs": [
    {
     "name": "stdout",
     "output_type": "stream",
     "text": [
      "40\n",
      "35\n",
      "30\n",
      "25\n",
      "20\n",
      "15\n"
     ]
    }
   ],
   "source": [
    "# Μπορούμε και ανάποδα\n",
    "for i in range(40, 10, -5):\n",
    "    print(i)"
   ]
  },
  {
   "cell_type": "markdown",
   "id": "1200a6be-9c43-42f5-8ff5-71d5ad3104ba",
   "metadata": {},
   "source": [
    "## Άσκηση 4: Προπαίδεια (again)\n",
    "Θέλουμε να εκτυπώσουμε την προπαίδεια του 11 ανάποδα, ξεκινόντας από το 110."
   ]
  },
  {
   "cell_type": "markdown",
   "id": "7f1948d7-1d6a-48e9-a735-b95b32375855",
   "metadata": {},
   "source": [
    "## Άσκηση 5: N Fibonacci\n",
    "Θέλουμε να πάρουμε έναν αριθμό *n* από το πληκτρολόγιο (με το input()), και να εκτυπώσουμε τους πρώτους *n* αριθμούς Fibonacci"
   ]
  },
  {
   "cell_type": "markdown",
   "id": "4aeb08cc-0eb1-4f8a-8554-7347beb4f13e",
   "metadata": {},
   "source": [
    "## Άσκηση 6: Πέτρα - Ψαλίδι - Χαρτί\n",
    "Θέλουμε ένα πρόγραμμα που διαβάζει τι διαλέγει ο παίκτης από το πληκτρολόγιο (R, P,ή S), και διαλέγει πάντα το κατάλληλο για να το κερδίσει"
   ]
  },
  {
   "cell_type": "code",
   "execution_count": null,
   "id": "48bd1251-724f-471c-9425-85b9df7c0e22",
   "metadata": {},
   "outputs": [],
   "source": []
  },
  {
   "cell_type": "markdown",
   "id": "c7a04b4c-de56-4214-b328-fc7511ed3b0d",
   "metadata": {},
   "source": [
    "## Συναρτήσεις (Functions)\n",
    "- Οι συναρτήσεις είναι ουσιαστικά ένα **μαύρο κουτί** με 0 ή παραπάνω εισόδους, και με 1 έξοδο. Οι είσοδοι είναι τα **δεδομένα** του προβλήματος.\n",
    "- Μια συνάρτηση δέχεται τις εισόδους, κάνει επεξεργασία σε αυτά τα δεδομένα, και παράγει ένα αποτέλεσμα\n",
    "- Ουσιαστικά, δεν μας ενδιαφέρει το τι κάνει μέσα η συνάρτηση, αλλά το αποτέλεσμα\n",
    "- Μας βοηθάει στην οργάνωση, και την επαναχρησιμοποίηση."
   ]
  },
  {
   "cell_type": "code",
   "execution_count": null,
   "id": "80062da0-30c5-4236-b0a0-cc8de1981d1f",
   "metadata": {},
   "outputs": [],
   "source": [
    "## Δομή συνάρτησης (στην Python)\n",
    "def όνομα_συνάρτησης(είσοδοι):\n",
    "    εντολή\n",
    "    εντολή\n",
    "    εντολή\n",
    "    return τιμή"
   ]
  },
  {
   "cell_type": "code",
   "execution_count": null,
   "id": "b9ae7a41-ab40-4a7d-ba31-7819124d9016",
   "metadata": {},
   "outputs": [],
   "source": [
    "def square(a):\n",
    "    result = a ** 2\n",
    "    return result\n",
    "\n",
    "print(square(5))\n",
    "print(square(8))\n",
    "print(square(-6))"
   ]
  },
  {
   "cell_type": "code",
   "execution_count": null,
   "id": "9b4498af-f772-4886-af0b-98ecff1532b1",
   "metadata": {},
   "outputs": [],
   "source": [
    "# Συνάρητση με 2 εισόδους:\n",
    "def hello(name, country):\n",
    "    result = \"Hello \" + name + \" from \" + country\n",
    "    print(result)"
   ]
  },
  {
   "cell_type": "code",
   "execution_count": null,
   "id": "69dbdad6-62d8-4ead-8019-1d093878ef93",
   "metadata": {},
   "outputs": [],
   "source": [
    "name = input(\"What's your name?\")\n",
    "country = input(\"What's your country?\")\n",
    "hello(name, country)"
   ]
  },
  {
   "cell_type": "markdown",
   "id": "8220b75e-2316-441a-b86e-8b5227a546d2",
   "metadata": {},
   "source": [
    "## Άσκηση 7: Περίμετρος\n",
    "Ορίστε μια συνάρτηση που δέχεται το μήκος της ακτίνας (σε cm), και εκτυπώνει την περίμετρό του αντίστοιχου κύκλου"
   ]
  },
  {
   "cell_type": "code",
   "execution_count": null,
   "id": "3bfaca99-bfc4-41d3-af28-9798a4a78cce",
   "metadata": {},
   "outputs": [],
   "source": [
    "import math\n",
    "print(math.pi)"
   ]
  }
 ],
 "metadata": {
  "kernelspec": {
   "display_name": "Python 3 (ipykernel)",
   "language": "python",
   "name": "python3"
  },
  "language_info": {
   "codemirror_mode": {
    "name": "ipython",
    "version": 3
   },
   "file_extension": ".py",
   "mimetype": "text/x-python",
   "name": "python",
   "nbconvert_exporter": "python",
   "pygments_lexer": "ipython3",
   "version": "3.13.1"
  }
 },
 "nbformat": 4,
 "nbformat_minor": 5
}
