{
 "cells": [
  {
   "cell_type": "markdown",
   "id": "dbbf40ac-6265-4b16-92cf-a1a68bc86976",
   "metadata": {},
   "source": [
    "## Συναρτήσεις (Functions)\n",
    "- Οι συναρτήσεις είναι ουσιαστικά ένα **μαύρο κουτί** με 0 ή παραπάνω εισόδους, και με 1 έξοδο. Οι είσοδοι είναι τα **δεδομένα** του προβλήματος.\n",
    "- Μια συνάρτηση δέχεται τις εισόδους, κάνει επεξεργασία σε αυτά τα δεδομένα, και παράγει ένα αποτέλεσμα\n",
    "- Ουσιαστικά, δεν μας ενδιαφέρει το τι κάνει μέσα η συνάρτηση, αλλά το αποτέλεσμα\n",
    "- Μας βοηθάει στην οργάνωση, και την επαναχρησιμοποίηση."
   ]
  },
  {
   "cell_type": "code",
   "execution_count": null,
   "id": "203c9e4c-902b-426d-a4ef-77c2c97152fc",
   "metadata": {},
   "outputs": [],
   "source": [
    "## Δομή συνάρτησης (στην Python)\n",
    "def όνομα_συνάρτησης(είσοδοι):\n",
    "    εντολή\n",
    "    εντολή\n",
    "    εντολή\n",
    "    ...\n",
    "    return τιμή"
   ]
  },
  {
   "cell_type": "code",
   "execution_count": null,
   "id": "b534c432-3a41-4c72-ba2a-2370a57cccaf",
   "metadata": {},
   "outputs": [],
   "source": [
    "def square(a):\n",
    "    result = a ** 2\n",
    "    return result\n",
    "\n",
    "print(square(5))\n",
    "print(square(8))\n",
    "print(square(-6))"
   ]
  },
  {
   "cell_type": "code",
   "execution_count": null,
   "id": "101e396c-d0d6-4fff-ba2a-04e83449052f",
   "metadata": {},
   "outputs": [],
   "source": [
    "# Συνάρητση με 2 εισόδους:\n",
    "def hello(name, country):\n",
    "    result = \"Hello \" + name + \" from \" + country\n",
    "    print(result)"
   ]
  },
  {
   "cell_type": "code",
   "execution_count": null,
   "id": "64832717-8396-4e4b-8fb1-6da7fb8ffd72",
   "metadata": {},
   "outputs": [],
   "source": [
    "name = input(\"What's your name?\")\n",
    "country = input(\"What's your country?\")\n",
    "hello(name, country)"
   ]
  },
  {
   "cell_type": "markdown",
   "id": "7055e89b-2dd6-45b2-9384-3eadcbaae2af",
   "metadata": {},
   "source": [
    "### Άσκηση 1: Περίμετρος\n",
    "Ορίστε μια συνάρτηση που λέγεται **circle_perimeter**. Θα δέχεται το μήκος της ακτίνας (σε cm), και εκτυπώνει την περίμετρό του αντίστοιχου κύκλου"
   ]
  },
  {
   "cell_type": "code",
   "execution_count": 5,
   "id": "d3fc47f5-ef8c-46f3-80c7-b7eb74e033d1",
   "metadata": {},
   "outputs": [
    {
     "name": "stdout",
     "output_type": "stream",
     "text": [
      "3.141592653589793\n"
     ]
    }
   ],
   "source": [
    "import math\n",
    "print (math.pi)"
   ]
  },
  {
   "cell_type": "code",
   "execution_count": null,
   "id": "63023850-251b-408a-bd59-7f28a9acdf7d",
   "metadata": {},
   "outputs": [],
   "source": []
  },
  {
   "cell_type": "markdown",
   "id": "ccee5325-ca11-43c5-8ac0-77c26c48e6f1",
   "metadata": {},
   "source": [
    "### Άσκηση 2: Εμβαδόν\n",
    "Ορίστε μια συνάρτηση λέγεται **circle_area()**. Θα δέχεται το μήκος της ακτίνας (σε cm), και εκτυπώνει το εμβαδόν του αντίστοιχου κύκλου"
   ]
  },
  {
   "cell_type": "code",
   "execution_count": null,
   "id": "a3cd5a2a-f084-4d30-86fa-f1682ec1f914",
   "metadata": {},
   "outputs": [],
   "source": []
  },
  {
   "cell_type": "markdown",
   "id": "3ece6bdf-daa8-4cd4-8aad-dc911ed07b0a",
   "metadata": {},
   "source": [
    "### Άσκηση 3: Τραπέζιο\n",
    "Ορίστε μια συνάρτηση που θα λέγεται **trapezoid()**, που δέχεται:\n",
    "- Το μήκος της μιας πλευράς του παραλληλογράμμου (έστω a)\n",
    "- Το μήκος της άλλης πλευράς (έστω b)\n",
    "Και επιστρέφει το εμβαδόν\n",
    "![title](trapezoid.jpg)"
   ]
  },
  {
   "cell_type": "code",
   "execution_count": null,
   "id": "1c4b4125-e307-494d-bfd4-f7e0145f4903",
   "metadata": {},
   "outputs": [],
   "source": []
  },
  {
   "cell_type": "markdown",
   "id": "96502d8d-bc29-41f1-8d6b-51d7a243baac",
   "metadata": {},
   "source": [
    "### Άσκηση 4: Fibonacci (Vol 3)\n",
    "Ορίστε μια συνάρτηση που θα λέγεται **fibonacci()**. Θα δέχεται μια παράμετρο **n**, και εκτυπώνει τον **n-οστό** σε σειρά αριθμό Fibonacci (μπορείτε να δείτε το lesson6 για ιδέες...)"
   ]
  },
  {
   "cell_type": "code",
   "execution_count": null,
   "id": "55c6cf6e-eea4-4302-8e36-3119a608c1ac",
   "metadata": {},
   "outputs": [],
   "source": []
  },
  {
   "cell_type": "markdown",
   "id": "b4ae47a5-bd1d-4a24-a9f3-84d7ae2a9078",
   "metadata": {},
   "source": [
    "### Άσκηση 5: Fahrenheit\n",
    "Θέλουμε μια συνάρτηση που θα λέγεται **fahrenheit()**.  δέχεται μια παράμετρο **T**, που είναι θερμοκρασία σε βαθμούς Κελσίου, και επιστρέφει την τιμή σε Fahrenheit. Για να βρείτε τη μετατροπή **Google is your friend**.\n"
   ]
  },
  {
   "cell_type": "code",
   "execution_count": null,
   "id": "53202b4d-690a-4fa7-abcd-85bf8bbf197a",
   "metadata": {},
   "outputs": [],
   "source": []
  },
  {
   "cell_type": "markdown",
   "id": "7d119357-208e-4fc2-9fef-d3645e1b7be3",
   "metadata": {},
   "source": [
    "## Βιβλιοθήκες\n",
    "Μπορούμε να χρησιμοποιήσουμε και έτοιμες συναρτήσεις που έχουν ορίσει άλλοι, πιο έμπειροι/έξυπνοι από εμάς, για να μας κάνουν τη ζωή ευκολότερη. Μια συλλογή από τέτοιες συναρτήσεις ονομάζεται **βιβλιοθήκη** (library). Για να καταλάβει η Python σε ποια συνάρτηση αναφερόμαστε, πρέπει να \"κατεβάσουμε\" τη βιβλιοθήκη στον κώδικά μας, χρησιμοποιώντας το **import**.\n",
    "\n",
    "Μπορούμε τότε να αναφερόμαστε σε κάθε συνάρτηση με το όνομα της βιβλιοθήκης μπροστά. Π.χ. για τη βιβλιοθήκη **math**:"
   ]
  },
  {
   "cell_type": "code",
   "execution_count": 9,
   "id": "7195b650-e099-4514-b88e-7307303b7605",
   "metadata": {},
   "outputs": [
    {
     "name": "stdout",
     "output_type": "stream",
     "text": [
      "3.141592653589793\n",
      "8.0\n"
     ]
    }
   ],
   "source": [
    "import math\n",
    "\n",
    "print(math.pi)\n",
    "print(math.sqrt(64))"
   ]
  },
  {
   "cell_type": "markdown",
   "id": "6aa02bfa-f1cd-4ba6-b0e7-374666a6ed27",
   "metadata": {},
   "source": [
    "### Random\n",
    "Μια πολύ χρήσιμη βιβλιοθήκη είναι η **random**, γιατί μας δίνει τυχαία νούμερα ή επιλογές:"
   ]
  },
  {
   "cell_type": "code",
   "execution_count": 15,
   "id": "edbc311b-ca9e-4393-af88-cfb104fc34ce",
   "metadata": {},
   "outputs": [
    {
     "name": "stdout",
     "output_type": "stream",
     "text": [
      "I choose by random: 5\n",
      "I choose by random the following fruit: apple\n"
     ]
    }
   ],
   "source": [
    "import random\n",
    "# Θέλουμε έναν τυχαίο αριθμό από το 1 έως και το 9:\n",
    "random_number = random.randint(1, 9)\n",
    "print(\"I choose by random:\", random_number)\n",
    "\n",
    "# Θέλουμε ένα τυχαίο φρούτο ανάμεσα στα ακόλουθα:\n",
    "fruits = [\"apple\", \"orange\", \"cherry\"]\n",
    "random_fruit = random.choice(fruits)\n",
    "print(\"I choose by random the following fruit:\", random_fruit)"
   ]
  },
  {
   "cell_type": "markdown",
   "id": "bd404cba-2a5f-4fe6-abc0-eea6b3c1b573",
   "metadata": {},
   "source": [
    "### Άσκηση 6: Πέτρα-Ψαλίδι-Χαρτί (revisited)\n",
    "Θέλουμε να μια συνάρτηση που λέγεται **game()**. Δεν δέχεται κανένα όρισμα. Στην αρχή, διαλέγεται **τυχαία** ένα από τα εξής: Rock, Paper, ή Scissors, και μετά διαβάζει το τι έπαιξε ο χρήστης. Απαντά ανάλογα με την επιλογή:\n",
    "- You win :)\n",
    "- You lose :(\n",
    "- Tie!"
   ]
  },
  {
   "cell_type": "markdown",
   "id": "d52161b6-93ad-48d1-b132-8648c0503851",
   "metadata": {},
   "source": [
    "## Bonus Άσκηση: Guess the Number game\n",
    "- Θέλουμε μια συνάρτηση που θα λέγεται **guess_the_number**. Θα δέχεται έναν αριθμό από το 1 έως και το 1000, και πρέπει να το μαντέψει σε λιγότερες από 10 ερωτήσεις. \n",
    "- Σε κάθε προσπάθεια ρωτάμε τον χρήστη: \"Is your number exactly, higher, or lower than\" και δίνουμε έναν αριθμό.\n",
    "- Πρέπει ανάλογα με την απάντηση (**H** για higher, **L**, για lower, * να δώσουμε άλλον αριθμό, μέχρι να καταλήξουμε στον τελικό αριθμό"
   ]
  },
  {
   "cell_type": "code",
   "execution_count": null,
   "id": "68f87e20-218a-43d7-984a-7e8d53629160",
   "metadata": {},
   "outputs": [],
   "source": []
  }
 ],
 "metadata": {
  "kernelspec": {
   "display_name": "Python 3 (ipykernel)",
   "language": "python",
   "name": "python3"
  },
  "language_info": {
   "codemirror_mode": {
    "name": "ipython",
    "version": 3
   },
   "file_extension": ".py",
   "mimetype": "text/x-python",
   "name": "python",
   "nbconvert_exporter": "python",
   "pygments_lexer": "ipython3",
   "version": "3.12.3"
  }
 },
 "nbformat": 4,
 "nbformat_minor": 5
}
